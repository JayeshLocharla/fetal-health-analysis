{
 "cells": [
  {
   "cell_type": "code",
   "execution_count": 1,
   "id": "36915939",
   "metadata": {
    "_cell_guid": "b1076dfc-b9ad-4769-8c92-a6c4dae69d19",
    "_uuid": "8f2839f25d086af736a60e9eeb907d3b93b6e0e5",
    "execution": {
     "iopub.execute_input": "2022-11-04T05:42:32.968514Z",
     "iopub.status.busy": "2022-11-04T05:42:32.967486Z",
     "iopub.status.idle": "2022-11-04T05:42:32.986844Z",
     "shell.execute_reply": "2022-11-04T05:42:32.985644Z"
    },
    "papermill": {
     "duration": 0.029743,
     "end_time": "2022-11-04T05:42:32.989519",
     "exception": false,
     "start_time": "2022-11-04T05:42:32.959776",
     "status": "completed"
    },
    "tags": []
   },
   "outputs": [
    {
     "name": "stdout",
     "output_type": "stream",
     "text": [
      "/kaggle/input/fetal-health-classification/fetal_health.csv\n"
     ]
    }
   ],
   "source": [
    "# This Python 3 environment comes with many helpful analytics libraries installed\n",
    "# It is defined by the kaggle/python Docker image: https://github.com/kaggle/docker-python\n",
    "# For example, here's several helpful packages to load\n",
    "\n",
    "import numpy as np # linear algebra\n",
    "import pandas as pd # data processing, CSV file I/O (e.g. pd.read_csv)\n",
    "\n",
    "# Input data files are available in the read-only \"../input/\" directory\n",
    "# For example, running this (by clicking run or pressing Shift+Enter) will list all files under the input directory\n",
    "\n",
    "import os\n",
    "for dirname, _, filenames in os.walk('/kaggle/input'):\n",
    "    for filename in filenames:\n",
    "        print(os.path.join(dirname, filename))\n",
    "\n",
    "# You can write up to 20GB to the current directory (/kaggle/working/) that gets preserved as output when you create a version using \"Save & Run All\" \n",
    "# You can also write temporary files to /kaggle/temp/, but they won't be saved outside of the current session"
   ]
  },
  {
   "cell_type": "code",
   "execution_count": 2,
   "id": "0f7a50d0",
   "metadata": {
    "execution": {
     "iopub.execute_input": "2022-11-04T05:42:32.999415Z",
     "iopub.status.busy": "2022-11-04T05:42:32.998749Z",
     "iopub.status.idle": "2022-11-04T05:42:33.062948Z",
     "shell.execute_reply": "2022-11-04T05:42:33.061737Z"
    },
    "papermill": {
     "duration": 0.071772,
     "end_time": "2022-11-04T05:42:33.065503",
     "exception": false,
     "start_time": "2022-11-04T05:42:32.993731",
     "status": "completed"
    },
    "tags": []
   },
   "outputs": [
    {
     "data": {
      "text/html": [
       "<div>\n",
       "<style scoped>\n",
       "    .dataframe tbody tr th:only-of-type {\n",
       "        vertical-align: middle;\n",
       "    }\n",
       "\n",
       "    .dataframe tbody tr th {\n",
       "        vertical-align: top;\n",
       "    }\n",
       "\n",
       "    .dataframe thead th {\n",
       "        text-align: right;\n",
       "    }\n",
       "</style>\n",
       "<table border=\"1\" class=\"dataframe\">\n",
       "  <thead>\n",
       "    <tr style=\"text-align: right;\">\n",
       "      <th></th>\n",
       "      <th>baseline value</th>\n",
       "      <th>accelerations</th>\n",
       "      <th>fetal_movement</th>\n",
       "      <th>uterine_contractions</th>\n",
       "      <th>light_decelerations</th>\n",
       "      <th>severe_decelerations</th>\n",
       "      <th>prolongued_decelerations</th>\n",
       "      <th>abnormal_short_term_variability</th>\n",
       "      <th>mean_value_of_short_term_variability</th>\n",
       "      <th>percentage_of_time_with_abnormal_long_term_variability</th>\n",
       "      <th>...</th>\n",
       "      <th>histogram_min</th>\n",
       "      <th>histogram_max</th>\n",
       "      <th>histogram_number_of_peaks</th>\n",
       "      <th>histogram_number_of_zeroes</th>\n",
       "      <th>histogram_mode</th>\n",
       "      <th>histogram_mean</th>\n",
       "      <th>histogram_median</th>\n",
       "      <th>histogram_variance</th>\n",
       "      <th>histogram_tendency</th>\n",
       "      <th>fetal_health</th>\n",
       "    </tr>\n",
       "  </thead>\n",
       "  <tbody>\n",
       "    <tr>\n",
       "      <th>0</th>\n",
       "      <td>120.0</td>\n",
       "      <td>0.000</td>\n",
       "      <td>0.0</td>\n",
       "      <td>0.000</td>\n",
       "      <td>0.000</td>\n",
       "      <td>0.0</td>\n",
       "      <td>0.0</td>\n",
       "      <td>73.0</td>\n",
       "      <td>0.5</td>\n",
       "      <td>43.0</td>\n",
       "      <td>...</td>\n",
       "      <td>62.0</td>\n",
       "      <td>126.0</td>\n",
       "      <td>2.0</td>\n",
       "      <td>0.0</td>\n",
       "      <td>120.0</td>\n",
       "      <td>137.0</td>\n",
       "      <td>121.0</td>\n",
       "      <td>73.0</td>\n",
       "      <td>1.0</td>\n",
       "      <td>2.0</td>\n",
       "    </tr>\n",
       "    <tr>\n",
       "      <th>1</th>\n",
       "      <td>132.0</td>\n",
       "      <td>0.006</td>\n",
       "      <td>0.0</td>\n",
       "      <td>0.006</td>\n",
       "      <td>0.003</td>\n",
       "      <td>0.0</td>\n",
       "      <td>0.0</td>\n",
       "      <td>17.0</td>\n",
       "      <td>2.1</td>\n",
       "      <td>0.0</td>\n",
       "      <td>...</td>\n",
       "      <td>68.0</td>\n",
       "      <td>198.0</td>\n",
       "      <td>6.0</td>\n",
       "      <td>1.0</td>\n",
       "      <td>141.0</td>\n",
       "      <td>136.0</td>\n",
       "      <td>140.0</td>\n",
       "      <td>12.0</td>\n",
       "      <td>0.0</td>\n",
       "      <td>1.0</td>\n",
       "    </tr>\n",
       "    <tr>\n",
       "      <th>2</th>\n",
       "      <td>133.0</td>\n",
       "      <td>0.003</td>\n",
       "      <td>0.0</td>\n",
       "      <td>0.008</td>\n",
       "      <td>0.003</td>\n",
       "      <td>0.0</td>\n",
       "      <td>0.0</td>\n",
       "      <td>16.0</td>\n",
       "      <td>2.1</td>\n",
       "      <td>0.0</td>\n",
       "      <td>...</td>\n",
       "      <td>68.0</td>\n",
       "      <td>198.0</td>\n",
       "      <td>5.0</td>\n",
       "      <td>1.0</td>\n",
       "      <td>141.0</td>\n",
       "      <td>135.0</td>\n",
       "      <td>138.0</td>\n",
       "      <td>13.0</td>\n",
       "      <td>0.0</td>\n",
       "      <td>1.0</td>\n",
       "    </tr>\n",
       "    <tr>\n",
       "      <th>3</th>\n",
       "      <td>134.0</td>\n",
       "      <td>0.003</td>\n",
       "      <td>0.0</td>\n",
       "      <td>0.008</td>\n",
       "      <td>0.003</td>\n",
       "      <td>0.0</td>\n",
       "      <td>0.0</td>\n",
       "      <td>16.0</td>\n",
       "      <td>2.4</td>\n",
       "      <td>0.0</td>\n",
       "      <td>...</td>\n",
       "      <td>53.0</td>\n",
       "      <td>170.0</td>\n",
       "      <td>11.0</td>\n",
       "      <td>0.0</td>\n",
       "      <td>137.0</td>\n",
       "      <td>134.0</td>\n",
       "      <td>137.0</td>\n",
       "      <td>13.0</td>\n",
       "      <td>1.0</td>\n",
       "      <td>1.0</td>\n",
       "    </tr>\n",
       "    <tr>\n",
       "      <th>4</th>\n",
       "      <td>132.0</td>\n",
       "      <td>0.007</td>\n",
       "      <td>0.0</td>\n",
       "      <td>0.008</td>\n",
       "      <td>0.000</td>\n",
       "      <td>0.0</td>\n",
       "      <td>0.0</td>\n",
       "      <td>16.0</td>\n",
       "      <td>2.4</td>\n",
       "      <td>0.0</td>\n",
       "      <td>...</td>\n",
       "      <td>53.0</td>\n",
       "      <td>170.0</td>\n",
       "      <td>9.0</td>\n",
       "      <td>0.0</td>\n",
       "      <td>137.0</td>\n",
       "      <td>136.0</td>\n",
       "      <td>138.0</td>\n",
       "      <td>11.0</td>\n",
       "      <td>1.0</td>\n",
       "      <td>1.0</td>\n",
       "    </tr>\n",
       "  </tbody>\n",
       "</table>\n",
       "<p>5 rows × 22 columns</p>\n",
       "</div>"
      ],
      "text/plain": [
       "   baseline value  accelerations  fetal_movement  uterine_contractions  \\\n",
       "0           120.0          0.000             0.0                 0.000   \n",
       "1           132.0          0.006             0.0                 0.006   \n",
       "2           133.0          0.003             0.0                 0.008   \n",
       "3           134.0          0.003             0.0                 0.008   \n",
       "4           132.0          0.007             0.0                 0.008   \n",
       "\n",
       "   light_decelerations  severe_decelerations  prolongued_decelerations  \\\n",
       "0                0.000                   0.0                       0.0   \n",
       "1                0.003                   0.0                       0.0   \n",
       "2                0.003                   0.0                       0.0   \n",
       "3                0.003                   0.0                       0.0   \n",
       "4                0.000                   0.0                       0.0   \n",
       "\n",
       "   abnormal_short_term_variability  mean_value_of_short_term_variability  \\\n",
       "0                             73.0                                   0.5   \n",
       "1                             17.0                                   2.1   \n",
       "2                             16.0                                   2.1   \n",
       "3                             16.0                                   2.4   \n",
       "4                             16.0                                   2.4   \n",
       "\n",
       "   percentage_of_time_with_abnormal_long_term_variability  ...  histogram_min  \\\n",
       "0                                               43.0       ...           62.0   \n",
       "1                                                0.0       ...           68.0   \n",
       "2                                                0.0       ...           68.0   \n",
       "3                                                0.0       ...           53.0   \n",
       "4                                                0.0       ...           53.0   \n",
       "\n",
       "   histogram_max  histogram_number_of_peaks  histogram_number_of_zeroes  \\\n",
       "0          126.0                        2.0                         0.0   \n",
       "1          198.0                        6.0                         1.0   \n",
       "2          198.0                        5.0                         1.0   \n",
       "3          170.0                       11.0                         0.0   \n",
       "4          170.0                        9.0                         0.0   \n",
       "\n",
       "   histogram_mode  histogram_mean  histogram_median  histogram_variance  \\\n",
       "0           120.0           137.0             121.0                73.0   \n",
       "1           141.0           136.0             140.0                12.0   \n",
       "2           141.0           135.0             138.0                13.0   \n",
       "3           137.0           134.0             137.0                13.0   \n",
       "4           137.0           136.0             138.0                11.0   \n",
       "\n",
       "   histogram_tendency  fetal_health  \n",
       "0                 1.0           2.0  \n",
       "1                 0.0           1.0  \n",
       "2                 0.0           1.0  \n",
       "3                 1.0           1.0  \n",
       "4                 1.0           1.0  \n",
       "\n",
       "[5 rows x 22 columns]"
      ]
     },
     "execution_count": 2,
     "metadata": {},
     "output_type": "execute_result"
    }
   ],
   "source": [
    "import pandas as pd\n",
    "import numpy as np\n",
    "data=pd.read_csv(r'../input/fetal-health-classification/fetal_health.csv')\n",
    "data.head()"
   ]
  },
  {
   "cell_type": "code",
   "execution_count": 3,
   "id": "58922731",
   "metadata": {
    "execution": {
     "iopub.execute_input": "2022-11-04T05:42:33.075863Z",
     "iopub.status.busy": "2022-11-04T05:42:33.075457Z",
     "iopub.status.idle": "2022-11-04T05:42:33.107403Z",
     "shell.execute_reply": "2022-11-04T05:42:33.105609Z"
    },
    "papermill": {
     "duration": 0.041289,
     "end_time": "2022-11-04T05:42:33.111172",
     "exception": false,
     "start_time": "2022-11-04T05:42:33.069883",
     "status": "completed"
    },
    "tags": []
   },
   "outputs": [
    {
     "name": "stdout",
     "output_type": "stream",
     "text": [
      "<class 'pandas.core.frame.DataFrame'>\n",
      "Int64Index: 2113 entries, 0 to 2125\n",
      "Data columns (total 22 columns):\n",
      " #   Column                                                  Non-Null Count  Dtype  \n",
      "---  ------                                                  --------------  -----  \n",
      " 0   baseline value                                          2113 non-null   float64\n",
      " 1   accelerations                                           2113 non-null   float64\n",
      " 2   fetal_movement                                          2113 non-null   float64\n",
      " 3   uterine_contractions                                    2113 non-null   float64\n",
      " 4   light_decelerations                                     2113 non-null   float64\n",
      " 5   severe_decelerations                                    2113 non-null   float64\n",
      " 6   prolongued_decelerations                                2113 non-null   float64\n",
      " 7   abnormal_short_term_variability                         2113 non-null   float64\n",
      " 8   mean_value_of_short_term_variability                    2113 non-null   float64\n",
      " 9   percentage_of_time_with_abnormal_long_term_variability  2113 non-null   float64\n",
      " 10  mean_value_of_long_term_variability                     2113 non-null   float64\n",
      " 11  histogram_width                                         2113 non-null   float64\n",
      " 12  histogram_min                                           2113 non-null   float64\n",
      " 13  histogram_max                                           2113 non-null   float64\n",
      " 14  histogram_number_of_peaks                               2113 non-null   float64\n",
      " 15  histogram_number_of_zeroes                              2113 non-null   float64\n",
      " 16  histogram_mode                                          2113 non-null   float64\n",
      " 17  histogram_mean                                          2113 non-null   float64\n",
      " 18  histogram_median                                        2113 non-null   float64\n",
      " 19  histogram_variance                                      2113 non-null   float64\n",
      " 20  histogram_tendency                                      2113 non-null   float64\n",
      " 21  fetal_health                                            2113 non-null   float64\n",
      "dtypes: float64(22)\n",
      "memory usage: 379.7 KB\n"
     ]
    }
   ],
   "source": [
    "data=data.drop_duplicates()\n",
    "data.info()"
   ]
  },
  {
   "cell_type": "code",
   "execution_count": 4,
   "id": "c18b473f",
   "metadata": {
    "execution": {
     "iopub.execute_input": "2022-11-04T05:42:33.122517Z",
     "iopub.status.busy": "2022-11-04T05:42:33.121868Z",
     "iopub.status.idle": "2022-11-04T05:42:34.036157Z",
     "shell.execute_reply": "2022-11-04T05:42:34.034551Z"
    },
    "papermill": {
     "duration": 0.922905,
     "end_time": "2022-11-04T05:42:34.038946",
     "exception": false,
     "start_time": "2022-11-04T05:42:33.116041",
     "status": "completed"
    },
    "tags": []
   },
   "outputs": [],
   "source": [
    "from sklearn.preprocessing import LabelEncoder\n",
    "enc=LabelEncoder()\n",
    "data['fetal_health']=enc.fit_transform(data['fetal_health'])"
   ]
  },
  {
   "cell_type": "code",
   "execution_count": 5,
   "id": "b6fbded7",
   "metadata": {
    "execution": {
     "iopub.execute_input": "2022-11-04T05:42:34.049763Z",
     "iopub.status.busy": "2022-11-04T05:42:34.049107Z",
     "iopub.status.idle": "2022-11-04T05:42:34.055268Z",
     "shell.execute_reply": "2022-11-04T05:42:34.054387Z"
    },
    "papermill": {
     "duration": 0.013972,
     "end_time": "2022-11-04T05:42:34.057307",
     "exception": false,
     "start_time": "2022-11-04T05:42:34.043335",
     "status": "completed"
    },
    "tags": []
   },
   "outputs": [],
   "source": [
    "data['fetal_health'].value_counts()\n",
    "y=data['fetal_health']\n",
    "x=data.drop(['fetal_health'],axis=1)"
   ]
  },
  {
   "cell_type": "code",
   "execution_count": 6,
   "id": "567c8027",
   "metadata": {
    "execution": {
     "iopub.execute_input": "2022-11-04T05:42:34.068045Z",
     "iopub.status.busy": "2022-11-04T05:42:34.067077Z",
     "iopub.status.idle": "2022-11-04T05:42:34.107535Z",
     "shell.execute_reply": "2022-11-04T05:42:34.106726Z"
    },
    "papermill": {
     "duration": 0.047849,
     "end_time": "2022-11-04T05:42:34.109556",
     "exception": false,
     "start_time": "2022-11-04T05:42:34.061707",
     "status": "completed"
    },
    "tags": []
   },
   "outputs": [
    {
     "data": {
      "text/html": [
       "<div>\n",
       "<style scoped>\n",
       "    .dataframe tbody tr th:only-of-type {\n",
       "        vertical-align: middle;\n",
       "    }\n",
       "\n",
       "    .dataframe tbody tr th {\n",
       "        vertical-align: top;\n",
       "    }\n",
       "\n",
       "    .dataframe thead th {\n",
       "        text-align: right;\n",
       "    }\n",
       "</style>\n",
       "<table border=\"1\" class=\"dataframe\">\n",
       "  <thead>\n",
       "    <tr style=\"text-align: right;\">\n",
       "      <th></th>\n",
       "      <th>baseline value</th>\n",
       "      <th>accelerations</th>\n",
       "      <th>fetal_movement</th>\n",
       "      <th>uterine_contractions</th>\n",
       "      <th>light_decelerations</th>\n",
       "      <th>severe_decelerations</th>\n",
       "      <th>prolongued_decelerations</th>\n",
       "      <th>abnormal_short_term_variability</th>\n",
       "      <th>mean_value_of_short_term_variability</th>\n",
       "      <th>percentage_of_time_with_abnormal_long_term_variability</th>\n",
       "      <th>...</th>\n",
       "      <th>histogram_width</th>\n",
       "      <th>histogram_min</th>\n",
       "      <th>histogram_max</th>\n",
       "      <th>histogram_number_of_peaks</th>\n",
       "      <th>histogram_number_of_zeroes</th>\n",
       "      <th>histogram_mode</th>\n",
       "      <th>histogram_mean</th>\n",
       "      <th>histogram_median</th>\n",
       "      <th>histogram_variance</th>\n",
       "      <th>histogram_tendency</th>\n",
       "    </tr>\n",
       "  </thead>\n",
       "  <tbody>\n",
       "    <tr>\n",
       "      <th>0</th>\n",
       "      <td>0.259259</td>\n",
       "      <td>0.000000</td>\n",
       "      <td>0.0</td>\n",
       "      <td>0.000000</td>\n",
       "      <td>0.0</td>\n",
       "      <td>0.0</td>\n",
       "      <td>0.0</td>\n",
       "      <td>0.813333</td>\n",
       "      <td>0.044118</td>\n",
       "      <td>0.472527</td>\n",
       "      <td>...</td>\n",
       "      <td>0.344633</td>\n",
       "      <td>0.110092</td>\n",
       "      <td>0.034483</td>\n",
       "      <td>0.111111</td>\n",
       "      <td>0.0</td>\n",
       "      <td>0.472441</td>\n",
       "      <td>0.587156</td>\n",
       "      <td>0.403670</td>\n",
       "      <td>0.271375</td>\n",
       "      <td>1.0</td>\n",
       "    </tr>\n",
       "    <tr>\n",
       "      <th>1</th>\n",
       "      <td>0.481481</td>\n",
       "      <td>0.315789</td>\n",
       "      <td>0.0</td>\n",
       "      <td>0.400000</td>\n",
       "      <td>0.2</td>\n",
       "      <td>0.0</td>\n",
       "      <td>0.0</td>\n",
       "      <td>0.066667</td>\n",
       "      <td>0.279412</td>\n",
       "      <td>0.000000</td>\n",
       "      <td>...</td>\n",
       "      <td>0.717514</td>\n",
       "      <td>0.165138</td>\n",
       "      <td>0.655172</td>\n",
       "      <td>0.333333</td>\n",
       "      <td>0.1</td>\n",
       "      <td>0.637795</td>\n",
       "      <td>0.577982</td>\n",
       "      <td>0.577982</td>\n",
       "      <td>0.044610</td>\n",
       "      <td>0.5</td>\n",
       "    </tr>\n",
       "    <tr>\n",
       "      <th>2</th>\n",
       "      <td>0.500000</td>\n",
       "      <td>0.157895</td>\n",
       "      <td>0.0</td>\n",
       "      <td>0.533333</td>\n",
       "      <td>0.2</td>\n",
       "      <td>0.0</td>\n",
       "      <td>0.0</td>\n",
       "      <td>0.053333</td>\n",
       "      <td>0.279412</td>\n",
       "      <td>0.000000</td>\n",
       "      <td>...</td>\n",
       "      <td>0.717514</td>\n",
       "      <td>0.165138</td>\n",
       "      <td>0.655172</td>\n",
       "      <td>0.277778</td>\n",
       "      <td>0.1</td>\n",
       "      <td>0.637795</td>\n",
       "      <td>0.568807</td>\n",
       "      <td>0.559633</td>\n",
       "      <td>0.048327</td>\n",
       "      <td>0.5</td>\n",
       "    </tr>\n",
       "    <tr>\n",
       "      <th>3</th>\n",
       "      <td>0.518519</td>\n",
       "      <td>0.157895</td>\n",
       "      <td>0.0</td>\n",
       "      <td>0.533333</td>\n",
       "      <td>0.2</td>\n",
       "      <td>0.0</td>\n",
       "      <td>0.0</td>\n",
       "      <td>0.053333</td>\n",
       "      <td>0.323529</td>\n",
       "      <td>0.000000</td>\n",
       "      <td>...</td>\n",
       "      <td>0.644068</td>\n",
       "      <td>0.027523</td>\n",
       "      <td>0.413793</td>\n",
       "      <td>0.611111</td>\n",
       "      <td>0.0</td>\n",
       "      <td>0.606299</td>\n",
       "      <td>0.559633</td>\n",
       "      <td>0.550459</td>\n",
       "      <td>0.048327</td>\n",
       "      <td>1.0</td>\n",
       "    </tr>\n",
       "    <tr>\n",
       "      <th>4</th>\n",
       "      <td>0.481481</td>\n",
       "      <td>0.368421</td>\n",
       "      <td>0.0</td>\n",
       "      <td>0.533333</td>\n",
       "      <td>0.0</td>\n",
       "      <td>0.0</td>\n",
       "      <td>0.0</td>\n",
       "      <td>0.053333</td>\n",
       "      <td>0.323529</td>\n",
       "      <td>0.000000</td>\n",
       "      <td>...</td>\n",
       "      <td>0.644068</td>\n",
       "      <td>0.027523</td>\n",
       "      <td>0.413793</td>\n",
       "      <td>0.500000</td>\n",
       "      <td>0.0</td>\n",
       "      <td>0.606299</td>\n",
       "      <td>0.577982</td>\n",
       "      <td>0.559633</td>\n",
       "      <td>0.040892</td>\n",
       "      <td>1.0</td>\n",
       "    </tr>\n",
       "  </tbody>\n",
       "</table>\n",
       "<p>5 rows × 21 columns</p>\n",
       "</div>"
      ],
      "text/plain": [
       "   baseline value  accelerations  fetal_movement  uterine_contractions  \\\n",
       "0        0.259259       0.000000             0.0              0.000000   \n",
       "1        0.481481       0.315789             0.0              0.400000   \n",
       "2        0.500000       0.157895             0.0              0.533333   \n",
       "3        0.518519       0.157895             0.0              0.533333   \n",
       "4        0.481481       0.368421             0.0              0.533333   \n",
       "\n",
       "   light_decelerations  severe_decelerations  prolongued_decelerations  \\\n",
       "0                  0.0                   0.0                       0.0   \n",
       "1                  0.2                   0.0                       0.0   \n",
       "2                  0.2                   0.0                       0.0   \n",
       "3                  0.2                   0.0                       0.0   \n",
       "4                  0.0                   0.0                       0.0   \n",
       "\n",
       "   abnormal_short_term_variability  mean_value_of_short_term_variability  \\\n",
       "0                         0.813333                              0.044118   \n",
       "1                         0.066667                              0.279412   \n",
       "2                         0.053333                              0.279412   \n",
       "3                         0.053333                              0.323529   \n",
       "4                         0.053333                              0.323529   \n",
       "\n",
       "   percentage_of_time_with_abnormal_long_term_variability  ...  \\\n",
       "0                                           0.472527       ...   \n",
       "1                                           0.000000       ...   \n",
       "2                                           0.000000       ...   \n",
       "3                                           0.000000       ...   \n",
       "4                                           0.000000       ...   \n",
       "\n",
       "   histogram_width  histogram_min  histogram_max  histogram_number_of_peaks  \\\n",
       "0         0.344633       0.110092       0.034483                   0.111111   \n",
       "1         0.717514       0.165138       0.655172                   0.333333   \n",
       "2         0.717514       0.165138       0.655172                   0.277778   \n",
       "3         0.644068       0.027523       0.413793                   0.611111   \n",
       "4         0.644068       0.027523       0.413793                   0.500000   \n",
       "\n",
       "   histogram_number_of_zeroes  histogram_mode  histogram_mean  \\\n",
       "0                         0.0        0.472441        0.587156   \n",
       "1                         0.1        0.637795        0.577982   \n",
       "2                         0.1        0.637795        0.568807   \n",
       "3                         0.0        0.606299        0.559633   \n",
       "4                         0.0        0.606299        0.577982   \n",
       "\n",
       "   histogram_median  histogram_variance  histogram_tendency  \n",
       "0          0.403670            0.271375                 1.0  \n",
       "1          0.577982            0.044610                 0.5  \n",
       "2          0.559633            0.048327                 0.5  \n",
       "3          0.550459            0.048327                 1.0  \n",
       "4          0.559633            0.040892                 1.0  \n",
       "\n",
       "[5 rows x 21 columns]"
      ]
     },
     "execution_count": 6,
     "metadata": {},
     "output_type": "execute_result"
    }
   ],
   "source": [
    "for column in x.columns:\n",
    "    x[column] = (x[column] - x[column].min()) / (x[column].max() - x[column].min()) \n",
    "x.head()"
   ]
  },
  {
   "cell_type": "code",
   "execution_count": 7,
   "id": "700a0bc6",
   "metadata": {
    "execution": {
     "iopub.execute_input": "2022-11-04T05:42:34.120894Z",
     "iopub.status.busy": "2022-11-04T05:42:34.119949Z",
     "iopub.status.idle": "2022-11-04T05:42:39.785890Z",
     "shell.execute_reply": "2022-11-04T05:42:39.784819Z"
    },
    "papermill": {
     "duration": 5.674439,
     "end_time": "2022-11-04T05:42:39.788642",
     "exception": false,
     "start_time": "2022-11-04T05:42:34.114203",
     "status": "completed"
    },
    "tags": []
   },
   "outputs": [],
   "source": [
    "from keras.utils.np_utils import to_categorical\n",
    "y_cat=to_categorical(y,num_classes=3)"
   ]
  },
  {
   "cell_type": "code",
   "execution_count": 8,
   "id": "e59b9896",
   "metadata": {
    "execution": {
     "iopub.execute_input": "2022-11-04T05:42:39.799887Z",
     "iopub.status.busy": "2022-11-04T05:42:39.799207Z",
     "iopub.status.idle": "2022-11-04T05:42:39.856844Z",
     "shell.execute_reply": "2022-11-04T05:42:39.854871Z"
    },
    "papermill": {
     "duration": 0.066588,
     "end_time": "2022-11-04T05:42:39.859881",
     "exception": false,
     "start_time": "2022-11-04T05:42:39.793293",
     "status": "completed"
    },
    "tags": []
   },
   "outputs": [
    {
     "name": "stdout",
     "output_type": "stream",
     "text": [
      "(1901, 21)\n",
      "(212, 21)\n",
      "(1901, 3)\n",
      "(212, 3)\n"
     ]
    }
   ],
   "source": [
    "from sklearn.model_selection import train_test_split\n",
    "xtrain,xtest,ytrain,ytest= train_test_split(x.values,y_cat,test_size=0.1,stratify=y)\n",
    "print(xtrain.shape)\n",
    "print(xtest.shape)\n",
    "print(ytrain.shape)\n",
    "print(ytest.shape)"
   ]
  },
  {
   "cell_type": "code",
   "execution_count": 9,
   "id": "1d195b5c",
   "metadata": {
    "execution": {
     "iopub.execute_input": "2022-11-04T05:42:39.871194Z",
     "iopub.status.busy": "2022-11-04T05:42:39.870807Z",
     "iopub.status.idle": "2022-11-04T05:42:40.367985Z",
     "shell.execute_reply": "2022-11-04T05:42:40.366468Z"
    },
    "papermill": {
     "duration": 0.505975,
     "end_time": "2022-11-04T05:42:40.370646",
     "exception": false,
     "start_time": "2022-11-04T05:42:39.864671",
     "status": "completed"
    },
    "tags": []
   },
   "outputs": [
    {
     "name": "stdout",
     "output_type": "stream",
     "text": [
      "Model: \"sequential\"\n",
      "_________________________________________________________________\n",
      "Layer (type)                 Output Shape              Param #   \n",
      "=================================================================\n",
      "dense (Dense)                (None, 256)               5632      \n",
      "_________________________________________________________________\n",
      "dense_1 (Dense)              (None, 512)               131584    \n",
      "_________________________________________________________________\n",
      "dense_2 (Dense)              (None, 3)                 1539      \n",
      "=================================================================\n",
      "Total params: 138,755\n",
      "Trainable params: 138,755\n",
      "Non-trainable params: 0\n",
      "_________________________________________________________________\n"
     ]
    },
    {
     "name": "stderr",
     "output_type": "stream",
     "text": [
      "2022-11-04 05:42:40.258441: I tensorflow/core/common_runtime/process_util.cc:146] Creating new thread pool with default inter op setting: 2. Tune using inter_op_parallelism_threads for best performance.\n"
     ]
    }
   ],
   "source": [
    "import tensorflow as tf\n",
    "from tensorflow.keras import Sequential\n",
    "from tensorflow.keras.layers import Dense, Dropout\n",
    "dl_model = Sequential() \n",
    "\n",
    "dl_model.add(Dense(256,  activation = 'relu' ,input_shape=([21]))) #input layer\n",
    "dl_model.add(Dense(512,  activation = 'relu'))\n",
    "dl_model.add(Dense(3,activation = 'softmax'))\n",
    "dl_model.summary()\n",
    "dl_model.compile(optimizer = 'adam' , loss = 'categorical_crossentropy' ,metrics = ['accuracy','Precision','Recall','AUC'])"
   ]
  },
  {
   "cell_type": "code",
   "execution_count": 10,
   "id": "50b1eba0",
   "metadata": {
    "execution": {
     "iopub.execute_input": "2022-11-04T05:42:40.388383Z",
     "iopub.status.busy": "2022-11-04T05:42:40.387713Z",
     "iopub.status.idle": "2022-11-04T05:42:51.959033Z",
     "shell.execute_reply": "2022-11-04T05:42:51.957675Z"
    },
    "papermill": {
     "duration": 11.583108,
     "end_time": "2022-11-04T05:42:51.962498",
     "exception": false,
     "start_time": "2022-11-04T05:42:40.379390",
     "status": "completed"
    },
    "tags": []
   },
   "outputs": [
    {
     "name": "stderr",
     "output_type": "stream",
     "text": [
      "2022-11-04 05:42:40.487212: I tensorflow/compiler/mlir/mlir_graph_optimization_pass.cc:185] None of the MLIR Optimization Passes are enabled (registered 2)\n"
     ]
    },
    {
     "name": "stdout",
     "output_type": "stream",
     "text": [
      "Epoch 1/20\n",
      "50/50 [==============================] - 2s 17ms/step - loss: 0.5433 - accuracy: 0.7907 - precision: 0.8136 - recall: 0.7469 - auc: 0.9231 - val_loss: 0.2975 - val_accuracy: 0.8679 - val_precision: 0.9282 - val_recall: 0.8538 - val_auc: 0.9778\n",
      "\n",
      "Epoch 00001: val_accuracy improved from -inf to 0.86792, saving model to best_model.h5\n",
      "Epoch 2/20\n",
      "50/50 [==============================] - 0s 5ms/step - loss: 0.3044 - accuracy: 0.8773 - precision: 0.8939 - recall: 0.8603 - auc: 0.9750 - val_loss: 0.2526 - val_accuracy: 0.9104 - val_precision: 0.9130 - val_recall: 0.8915 - val_auc: 0.9820\n",
      "\n",
      "Epoch 00002: val_accuracy improved from 0.86792 to 0.91038, saving model to best_model.h5\n",
      "Epoch 3/20\n",
      "50/50 [==============================] - 0s 5ms/step - loss: 0.2793 - accuracy: 0.8851 - precision: 0.8960 - recall: 0.8747 - auc: 0.9782 - val_loss: 0.2146 - val_accuracy: 0.9057 - val_precision: 0.9082 - val_recall: 0.8868 - val_auc: 0.9880\n",
      "\n",
      "Epoch 00003: val_accuracy did not improve from 0.91038\n",
      "Epoch 4/20\n",
      "50/50 [==============================] - 0s 4ms/step - loss: 0.2593 - accuracy: 0.8887 - precision: 0.8981 - recall: 0.8814 - auc: 0.9811 - val_loss: 0.2114 - val_accuracy: 0.9151 - val_precision: 0.9183 - val_recall: 0.9009 - val_auc: 0.9878\n",
      "\n",
      "Epoch 00004: val_accuracy improved from 0.91038 to 0.91509, saving model to best_model.h5\n",
      "Epoch 5/20\n",
      "50/50 [==============================] - 0s 4ms/step - loss: 0.2379 - accuracy: 0.9005 - precision: 0.9042 - recall: 0.8907 - auc: 0.9839 - val_loss: 0.2403 - val_accuracy: 0.8962 - val_precision: 0.9163 - val_recall: 0.8774 - val_auc: 0.9849\n",
      "\n",
      "Epoch 00005: val_accuracy did not improve from 0.91509\n",
      "Epoch 6/20\n",
      "50/50 [==============================] - 0s 4ms/step - loss: 0.2347 - accuracy: 0.8969 - precision: 0.9016 - recall: 0.8881 - auc: 0.9845 - val_loss: 0.1920 - val_accuracy: 0.9198 - val_precision: 0.9282 - val_recall: 0.9151 - val_auc: 0.9899\n",
      "\n",
      "Epoch 00006: val_accuracy improved from 0.91509 to 0.91981, saving model to best_model.h5\n",
      "Epoch 7/20\n",
      "50/50 [==============================] - 0s 5ms/step - loss: 0.2300 - accuracy: 0.8938 - precision: 0.8991 - recall: 0.8861 - auc: 0.9848 - val_loss: 0.1881 - val_accuracy: 0.9198 - val_precision: 0.9279 - val_recall: 0.9104 - val_auc: 0.9901\n",
      "\n",
      "Epoch 00007: val_accuracy did not improve from 0.91981\n",
      "Epoch 8/20\n",
      "50/50 [==============================] - 0s 5ms/step - loss: 0.2054 - accuracy: 0.9093 - precision: 0.9140 - recall: 0.9036 - auc: 0.9878 - val_loss: 0.1916 - val_accuracy: 0.9245 - val_precision: 0.9330 - val_recall: 0.9198 - val_auc: 0.9901\n",
      "\n",
      "Epoch 00008: val_accuracy improved from 0.91981 to 0.92453, saving model to best_model.h5\n",
      "Epoch 9/20\n",
      "50/50 [==============================] - 0s 4ms/step - loss: 0.2277 - accuracy: 0.9046 - precision: 0.9085 - recall: 0.9005 - auc: 0.9850 - val_loss: 0.1869 - val_accuracy: 0.9198 - val_precision: 0.9198 - val_recall: 0.9198 - val_auc: 0.9905\n",
      "\n",
      "Epoch 00009: val_accuracy did not improve from 0.92453\n",
      "Epoch 10/20\n",
      "50/50 [==============================] - 0s 4ms/step - loss: 0.2010 - accuracy: 0.9103 - precision: 0.9151 - recall: 0.9062 - auc: 0.9883 - val_loss: 0.2028 - val_accuracy: 0.9151 - val_precision: 0.9147 - val_recall: 0.9104 - val_auc: 0.9873\n",
      "\n",
      "Epoch 00010: val_accuracy did not improve from 0.92453\n",
      "Epoch 11/20\n",
      "50/50 [==============================] - 0s 4ms/step - loss: 0.2000 - accuracy: 0.9093 - precision: 0.9113 - recall: 0.9057 - auc: 0.9883 - val_loss: 0.1853 - val_accuracy: 0.9198 - val_precision: 0.9242 - val_recall: 0.9198 - val_auc: 0.9895\n",
      "\n",
      "Epoch 00011: val_accuracy did not improve from 0.92453\n",
      "Epoch 12/20\n",
      "50/50 [==============================] - 0s 4ms/step - loss: 0.1900 - accuracy: 0.9124 - precision: 0.9149 - recall: 0.9088 - auc: 0.9894 - val_loss: 0.1854 - val_accuracy: 0.9245 - val_precision: 0.9330 - val_recall: 0.9198 - val_auc: 0.9911\n",
      "\n",
      "Epoch 00012: val_accuracy did not improve from 0.92453\n",
      "Epoch 13/20\n",
      "50/50 [==============================] - 0s 4ms/step - loss: 0.2090 - accuracy: 0.9057 - precision: 0.9071 - recall: 0.9005 - auc: 0.9871 - val_loss: 0.3038 - val_accuracy: 0.8396 - val_precision: 0.8469 - val_recall: 0.8349 - val_auc: 0.9734\n",
      "\n",
      "Epoch 00013: val_accuracy did not improve from 0.92453\n",
      "Epoch 14/20\n",
      "50/50 [==============================] - 0s 4ms/step - loss: 0.1977 - accuracy: 0.9119 - precision: 0.9148 - recall: 0.9082 - auc: 0.9885 - val_loss: 0.1697 - val_accuracy: 0.9340 - val_precision: 0.9336 - val_recall: 0.9292 - val_auc: 0.9921\n",
      "\n",
      "Epoch 00014: val_accuracy improved from 0.92453 to 0.93396, saving model to best_model.h5\n",
      "Epoch 15/20\n",
      "50/50 [==============================] - 0s 4ms/step - loss: 0.1785 - accuracy: 0.9165 - precision: 0.9180 - recall: 0.9124 - auc: 0.9906 - val_loss: 0.1868 - val_accuracy: 0.9292 - val_precision: 0.9378 - val_recall: 0.9245 - val_auc: 0.9902\n",
      "\n",
      "Epoch 00015: val_accuracy did not improve from 0.93396\n",
      "Epoch 16/20\n",
      "50/50 [==============================] - 0s 4ms/step - loss: 0.1795 - accuracy: 0.9232 - precision: 0.9239 - recall: 0.9196 - auc: 0.9903 - val_loss: 0.1769 - val_accuracy: 0.9245 - val_precision: 0.9245 - val_recall: 0.9245 - val_auc: 0.9897\n",
      "\n",
      "Epoch 00016: val_accuracy did not improve from 0.93396\n",
      "Epoch 17/20\n",
      "50/50 [==============================] - 0s 4ms/step - loss: 0.1927 - accuracy: 0.9103 - precision: 0.9133 - recall: 0.9072 - auc: 0.9890 - val_loss: 0.1732 - val_accuracy: 0.9481 - val_precision: 0.9524 - val_recall: 0.9434 - val_auc: 0.9912\n",
      "\n",
      "Epoch 00017: val_accuracy improved from 0.93396 to 0.94811, saving model to best_model.h5\n",
      "Epoch 18/20\n",
      "50/50 [==============================] - 0s 4ms/step - loss: 0.1725 - accuracy: 0.9278 - precision: 0.9319 - recall: 0.9247 - auc: 0.9913 - val_loss: 0.1918 - val_accuracy: 0.9292 - val_precision: 0.9292 - val_recall: 0.9292 - val_auc: 0.9883\n",
      "\n",
      "Epoch 00018: val_accuracy did not improve from 0.94811\n",
      "Epoch 19/20\n",
      "50/50 [==============================] - 0s 4ms/step - loss: 0.1721 - accuracy: 0.9222 - precision: 0.9239 - recall: 0.9196 - auc: 0.9913 - val_loss: 0.1710 - val_accuracy: 0.9434 - val_precision: 0.9431 - val_recall: 0.9387 - val_auc: 0.9908\n",
      "\n",
      "Epoch 00019: val_accuracy did not improve from 0.94811\n",
      "Epoch 20/20\n",
      "50/50 [==============================] - 0s 4ms/step - loss: 0.1755 - accuracy: 0.9190 - precision: 0.9227 - recall: 0.9164 - auc: 0.9909 - val_loss: 0.1763 - val_accuracy: 0.9151 - val_precision: 0.9151 - val_recall: 0.9151 - val_auc: 0.9917\n",
      "\n",
      "Epoch 00020: val_accuracy did not improve from 0.94811\n"
     ]
    }
   ],
   "source": [
    "from tensorflow.keras.callbacks import ModelCheckpoint\n",
    "filepath='best_model.h5'\n",
    "checkpoint = ModelCheckpoint(filepath, monitor='val_accuracy', verbose=1, save_best_only=True, mode='max')\n",
    "num_epochs = 20\n",
    "history = dl_model.fit(xtrain ,\n",
    "                    ytrain ,\n",
    "                    epochs= num_epochs ,\n",
    "                    steps_per_epoch=50,\n",
    "                    validation_data=(xtest ,ytest),callbacks=checkpoint)"
   ]
  },
  {
   "cell_type": "code",
   "execution_count": 11,
   "id": "06eb9b32",
   "metadata": {
    "execution": {
     "iopub.execute_input": "2022-11-04T05:42:51.989549Z",
     "iopub.status.busy": "2022-11-04T05:42:51.988977Z",
     "iopub.status.idle": "2022-11-04T05:42:52.106134Z",
     "shell.execute_reply": "2022-11-04T05:42:52.104833Z"
    },
    "papermill": {
     "duration": 0.133905,
     "end_time": "2022-11-04T05:42:52.108849",
     "exception": false,
     "start_time": "2022-11-04T05:42:51.974944",
     "status": "completed"
    },
    "tags": []
   },
   "outputs": [
    {
     "name": "stdout",
     "output_type": "stream",
     "text": [
      "7/7 [==============================] - 0s 3ms/step - loss: 0.1763 - accuracy: 0.9151 - precision: 0.9151 - recall: 0.9151 - auc: 0.9917\n"
     ]
    },
    {
     "data": {
      "text/plain": [
       "[0.17632892727851868,\n",
       " 0.9150943160057068,\n",
       " 0.9150943160057068,\n",
       " 0.9150943160057068,\n",
       " 0.9916729927062988]"
      ]
     },
     "execution_count": 11,
     "metadata": {},
     "output_type": "execute_result"
    }
   ],
   "source": [
    "dl_model.evaluate(xtest ,ytest)"
   ]
  },
  {
   "cell_type": "code",
   "execution_count": 12,
   "id": "ec4a54ab",
   "metadata": {
    "execution": {
     "iopub.execute_input": "2022-11-04T05:42:52.136457Z",
     "iopub.status.busy": "2022-11-04T05:42:52.135135Z",
     "iopub.status.idle": "2022-11-04T05:42:52.332310Z",
     "shell.execute_reply": "2022-11-04T05:42:52.331013Z"
    },
    "papermill": {
     "duration": 0.213363,
     "end_time": "2022-11-04T05:42:52.334818",
     "exception": false,
     "start_time": "2022-11-04T05:42:52.121455",
     "status": "completed"
    },
    "tags": []
   },
   "outputs": [
    {
     "name": "stdout",
     "output_type": "stream",
     "text": [
      "60/60 [==============================] - 0s 2ms/step - loss: 0.1735 - accuracy: 0.9327 - precision: 0.9335 - recall: 0.9311 - auc: 0.9915\n"
     ]
    },
    {
     "data": {
      "text/plain": [
       "[0.1735089123249054,\n",
       " 0.9326670169830322,\n",
       " 0.9335442781448364,\n",
       " 0.931088924407959,\n",
       " 0.99147629737854]"
      ]
     },
     "execution_count": 12,
     "metadata": {},
     "output_type": "execute_result"
    }
   ],
   "source": [
    "dl_model.evaluate(xtrain,ytrain)"
   ]
  }
 ],
 "metadata": {
  "kernelspec": {
   "display_name": "Python 3",
   "language": "python",
   "name": "python3"
  },
  "language_info": {
   "codemirror_mode": {
    "name": "ipython",
    "version": 3
   },
   "file_extension": ".py",
   "mimetype": "text/x-python",
   "name": "python",
   "nbconvert_exporter": "python",
   "pygments_lexer": "ipython3",
   "version": "3.7.12"
  },
  "papermill": {
   "default_parameters": {},
   "duration": 31.134474,
   "end_time": "2022-11-04T05:42:55.763865",
   "environment_variables": {},
   "exception": null,
   "input_path": "__notebook__.ipynb",
   "output_path": "__notebook__.ipynb",
   "parameters": {},
   "start_time": "2022-11-04T05:42:24.629391",
   "version": "2.3.4"
  }
 },
 "nbformat": 4,
 "nbformat_minor": 5
}
